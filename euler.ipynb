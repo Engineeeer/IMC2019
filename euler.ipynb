{
 "cells": [
  {
   "cell_type": "markdown",
   "metadata": {},
   "source": [
    "## Euler法の計算方法"
   ]
  },
  {
   "cell_type": "markdown",
   "metadata": {},
   "source": [
    "現実世界の物理現象はある基準に基づくと2種類に分類することができます．  \n",
    "それは**静的現象**と**動的現象**です．\n",
    "\n",
    "静的現象とはバネの伸びと復元力の関係のように過去の状態に依存しない現象のことです．\n",
    "\n",
    "それに対して動的現象とは過去の状態に依存する現象のことです．  \n",
    "言い換えると，時間にかんする微分方程式によって表される現象を指します．  \n",
    "この説明だけではわからないと思うので空気抵抗を考慮した自由落下を例に挙げたいと思います．"
   ]
  },
  {
   "cell_type": "markdown",
   "metadata": {},
   "source": [
    "空気抵抗が速度$v$に比例すると仮定したとき，質量$m$の物体が自由落下するときの運動方程式は以下の式で表すことができます．\n",
    "\n",
    "$$\n",
    "m\\dot{v} = mg - k_v v\n",
    "$$\n",
    "\n",
    "ただし$g$は重力加速度，$k_v$は空気抵抗に関する比例定数とします．  \n",
    "また$\\dot{v}$は速度$v$の時間微分を表しています．  \n",
    "この式を$\\dot{v}$について解くと次式のようになります．\n",
    "\n",
    "$$\n",
    "\\dot{v} = g - \\frac{k_v}{m}v\n",
    "$$\n",
    "\n",
    "高校物理では上の式の左辺を$0$と置くことで終端速度を計算したと思います．  \n",
    "また大学数学がちょっと分かる人は初期条件を与えることで，この微分方程式を解くことができると思います．  \n",
    "\n",
    "しかし，これから行なうことは上の式を解析的に求めることではありません．  \n",
    "これからはパソコンを使って上の微分方程式を数値的に求めていきます．"
   ]
  },
  {
   "cell_type": "markdown",
   "metadata": {},
   "source": [
    "微分方程式を数値的に計算するための手法の一つに**Euler法**と呼ばれる手法があります．\n",
    "まずはEuler法を導出していきたいと思います．\n",
    "\n",
    "まず，Euler法の適用対象として次式の微分方程式を仮定します．\n",
    "\n",
    "$$\n",
    "\\frac{dx}{dt} = f(x)\n",
    "$$\n",
    "\n",
    "$x = x_k$とし，$dt$後に関して$x = x_{k+1}$とすると，\n",
    "\n",
    "$$\n",
    "\\frac{dx}{dt} = \\frac{x_{k+1} - x_k}{dt}\n",
    "$$\n",
    "\n",
    "と置き換えることができる．  \n",
    "これを先程の微分方程式に代入すると，\n",
    "\n",
    "$$\n",
    "\\frac{x_{k+1} - x_k}{dt} = f(x_k)\n",
    "$$\n",
    "\n",
    "これを式変形すると次式が得られる．\n",
    "\n",
    "$$\n",
    "x_{k+1} = x_k + f(x_k)dt\n",
    "$$\n",
    "\n",
    "このように微分方程式を差分方程式(漸化式)に置き換えることができ，パソコンで計算することが可能になる．"
   ]
  },
  {
   "cell_type": "markdown",
   "metadata": {},
   "source": [
    "## シミュレーション条件\n",
    "\n",
    "| パラメータ | 数値 |\n",
    "|-----|-----|\n",
    "| 質量$m$ | $0.3$\\[kg\\] |\n",
    "| 空気抵抗係数$k_v$ | $1.0$\\[N/(m/v)\\] |\n",
    "| 重力加速度$g$ | $9.8$\\[m/s^2\\] |\n",
    "| サンプリング時間$dt$ | $0.001$\\[s\\] |"
   ]
  },
  {
   "cell_type": "markdown",
   "metadata": {},
   "source": [
    "## 終端速度の予想\n",
    "$\\dot{v}$の式に関して$\\dot{v}=0$とすると終端速度$v_{\\rm lim}$を次式のように求めることができます．\n",
    "\n",
    "$$\n",
    "v_{\\rm lim} = \\frac{mg}{k_v}\n",
    "$$\n",
    "\n",
    "したがって，このシミュレーションでは$v_{\\rm lim}=2.94$になることが予想されます．"
   ]
  },
  {
   "cell_type": "markdown",
   "metadata": {},
   "source": [
    "### モデルパラメータ"
   ]
  },
  {
   "cell_type": "code",
   "execution_count": null,
   "metadata": {},
   "outputs": [],
   "source": [
    "m = 0.3\n",
    "kv = 1.0\n",
    "g = 9.8\n",
    "\n",
    "dt = 0.001"
   ]
  },
  {
   "cell_type": "markdown",
   "metadata": {},
   "source": [
    "### 各関数の定義"
   ]
  },
  {
   "cell_type": "code",
   "execution_count": null,
   "metadata": {},
   "outputs": [],
   "source": [
    "def euler(x, func):\n",
    "    return x + func(x) * dt"
   ]
  },
  {
   "cell_type": "code",
   "execution_count": null,
   "metadata": {},
   "outputs": [],
   "source": [
    "def eom(v):\n",
    "    return g - kv*v/m"
   ]
  },
  {
   "cell_type": "markdown",
   "metadata": {},
   "source": [
    "### 初期条件"
   ]
  },
  {
   "cell_type": "code",
   "execution_count": null,
   "metadata": {},
   "outputs": [],
   "source": [
    "v = 0.0"
   ]
  },
  {
   "cell_type": "code",
   "execution_count": null,
   "metadata": {},
   "outputs": [],
   "source": [
    "vbuf = [v]\n",
    "tbuf = [0.0]"
   ]
  },
  {
   "cell_type": "markdown",
   "metadata": {},
   "source": [
    "### シミュレーション本体"
   ]
  },
  {
   "cell_type": "code",
   "execution_count": null,
   "metadata": {},
   "outputs": [],
   "source": [
    "for step in range(1, 10000):\n",
    "    v = euler(v, eom)\n",
    "    tbuf.append(step*dt)\n",
    "    vbuf.append(v)"
   ]
  },
  {
   "cell_type": "markdown",
   "metadata": {},
   "source": [
    "### グラフの作成と表示"
   ]
  },
  {
   "cell_type": "code",
   "execution_count": null,
   "metadata": {},
   "outputs": [],
   "source": [
    "import matplotlib.pyplot as plt\n",
    "\n",
    "plt.rcParams['font.size'] = 18\n",
    "\n",
    "plt.figure(figsize=(8,6))\n",
    "plt.axhline(y=m*g/kv, linestyle=\"dashed\", color=\"black\")\n",
    "plt.plot(tbuf, vbuf)\n",
    "\n",
    "plt.xlabel('time [s]')\n",
    "plt.ylabel('velocity [m/s]')\n",
    "plt.grid()\n",
    "plt.xlim(0, 10)\n",
    "plt.ylim(0, 3.3)\n",
    "\n",
    "plt.show()"
   ]
  }
 ],
 "metadata": {
  "kernelspec": {
   "display_name": "Python 3",
   "language": "python",
   "name": "python3"
  },
  "language_info": {
   "codemirror_mode": {
    "name": "ipython",
    "version": 3
   },
   "file_extension": ".py",
   "mimetype": "text/x-python",
   "name": "python",
   "nbconvert_exporter": "python",
   "pygments_lexer": "ipython3",
   "version": "3.6.0"
  }
 },
 "nbformat": 4,
 "nbformat_minor": 2
}
